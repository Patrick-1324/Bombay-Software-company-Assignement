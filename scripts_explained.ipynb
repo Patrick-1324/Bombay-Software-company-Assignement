{
 "cells": [
  {
   "cell_type": "code",
   "execution_count": 1,
   "metadata": {},
   "outputs": [],
   "source": [
    "import os\n",
    "import joblib\n",
    "import cv2 as cv\n",
    "import numpy as np\n",
    "import matplotlib.pyplot as plt\n",
    "from sklearn.decomposition import PCA\n",
    "from sklearn.preprocessing import LabelEncoder\n",
    "from skimage.feature import local_binary_pattern\n",
    "from sklearn.neighbors import KNeighborsClassifier\n",
    "from sklearn.model_selection import cross_val_score\n",
    "from sklearn.model_selection import train_test_split\n",
    "from sklearn.metrics import classification_report, accuracy_score"
   ]
  },
  {
   "cell_type": "markdown",
   "metadata": {},
   "source": [
    "####  Basic Image processing ->\n",
    "**Image Resizing** : Resizing images to a consistent size ensures uniformity in feature extraction and reduces computational complexity.  \"cv.resize()\" is used to resize the input image to a specified width and height (in this case, 150x150 pixels).\n",
    "\n",
    "**Color Space Conversion (Grayscale):**: Converting images to grayscale simplifies subsequent processing by reducing color information to a single channel. \"cv.cvtColor()\" converts the resized image from the BGR color space to grayscale.\n",
    "\n",
    "**Image Blurring (Gaussian Blur):**:  Gaussian blur is a form of image smoothing that reduces noise and enhances edge detection. \"cv.GaussianBlur()\" applies a Gaussian blur to the grayscale image using a specified kernel size (5x5 in this case)."
   ]
  },
  {
   "cell_type": "code",
   "execution_count": 2,
   "metadata": {},
   "outputs": [],
   "source": [
    "def preprocess_image(image):\n",
    "    resized_image = cv.resize(image, (150, 150))\n",
    "    gray_image = cv.cvtColor(resized_image, cv.COLOR_BGR2GRAY)\n",
    "    blurred_image = cv.GaussianBlur(gray_image, (5, 5), 0)\n",
    "    return blurred_image"
   ]
  },
  {
   "cell_type": "markdown",
   "metadata": {},
   "source": [
    "#### Feature Selection ->\n",
    "**Color Histogram :** Color histograms represent the distribution of color intensities in an image and are commonly used as image descriptors. \"cv.calcHist()\" calculates the histogram of the input image, specifying the number of bins for each color channel (8 bins per channel in this case). Histogram bins define the range of values over which pixel intensities are grouped, while histogram ranges specify the minimum and maximum values for each channel.\n",
    "\n",
    "**Edge Detection:** The Sobel operator computes the gradient of the image intensity, which represents the rate of change of intensity in the x and y directions. \"cv.Sobel()\" computes the gradient along the x and y directions separately using convolution with the Sobel kernels. The magnitude of the gradient is then computed using the Euclidean norm. Normalizing the gradient magnitude ensures that the values are within a certain range, making them suitable for further processing or visualization.\n",
    "\n",
    "**Texture Detection:** Local Binary Patterns are texture descriptors used for texture classification and analysis.\n",
    "Method: LBP encodes the local structure of an image by comparing each pixel with its surrounding neighbors. It assigns a binary code to each pixel based on whether its intensity is greater than or less than that of the surrounding neighbors.The radius parameter determines the radius of the circular neighborhood around each pixel, while n_points specifies the number of sampling points within the neighborhood.\n",
    "\n",
    "**Entropy:** Entropy measures the amount of uncertainty or disorder in an image. In image processing, entropy can be used as a measure of texture complexity or randomness. Ensuring numerical stability is crucial when performing calculations involving small or very large values, as these can lead to numerical errors or instability.\n",
    "Method: Adding a small constant (e.g., 1𝑒 − 10 ) to the image intensities before computing the logarithm helps prevent division by zero or taking the logarithm of zero, which can result in undefined or NaN (Not a Number) values.\n",
    "\n",
    "**Gradients:** The Histogram of Oriented Gradients is a feature descriptor used for object detection and image classification tasks. HOG computes the gradient magnitude and orientation for small regions (cells) in the image and constructs histograms of gradient orientations within larger blocks. These histograms capture the local gradient structure and are concatenated to form the final feature vector.\n",
    "\n",
    "**Corner Detection:** Identify points in an image where the intensity variation converges in two or more directions, indicating the presence of a corner or an edge intersection.\n",
    "Method: cv.cornerHarris() is one such algorithm that computes a Harris corner response function for each pixel, indicating the likelihood of that pixel being part of a corner."
   ]
  },
  {
   "cell_type": "code",
   "execution_count": 3,
   "metadata": {},
   "outputs": [],
   "source": [
    "def extract_histogram(image):\n",
    "    # Extract color histogram features\n",
    "    hist = cv.calcHist([image], [0, 1, 2], None, [8, 8, 8], [0, 256, 0, 256, 0, 256])\n",
    "    return hist.flatten()\n",
    "\n",
    "def extract_sobel_edges(image):\n",
    "    sobelx = cv.Sobel(image, cv.CV_64F, 1, 0, ksize=5)\n",
    "    sobely = cv.Sobel(image, cv.CV_64F, 0, 1, ksize=5)\n",
    "    sobel_combined = np.hypot(sobelx, sobely)\n",
    "    sobel_combined = cv.normalize(sobel_combined, sobel_combined).flatten()\n",
    "    return sobel_combined\n",
    "\n",
    "def extract_lbp(image):\n",
    "    # Extract Local Binary Patterns (LBP) features\n",
    "    radius = 1\n",
    "    n_points = 8 * radius\n",
    "    lbp = local_binary_pattern(image, n_points, radius, method=\"uniform\")\n",
    "    n_bins = int(lbp.max() + 1)\n",
    "    hist, _ = np.histogram(lbp, bins=n_bins, range=(0, n_bins), density=True)\n",
    "    return hist\n",
    "\n",
    "def extract_entropy(image):\n",
    "    entropy = -np.sum(image * np.log2(image + 1e-10))\n",
    "    return np.array([entropy])\n",
    "\n",
    "def extract_hog(image):\n",
    "    # Extract Histogram of Oriented Gradients (HOG) features\n",
    "    hog = cv.HOGDescriptor()\n",
    "    h = hog.compute(image)\n",
    "    return h.flatten() # type : ignore\n",
    "\n",
    "def extract_corners(image):\n",
    "    corners = cv.cornerHarris(image, 2, 3, 0.04)\n",
    "    return corners.flatten()"
   ]
  },
  {
   "cell_type": "markdown",
   "metadata": {},
   "source": [
    "| Image Type | Features Extracted                 |\n",
    "|------------|------------------------------------|\n",
    "| Buildings  | Sobel Edges, LBP, Color Histogram  |\n",
    "| Forest     | LBP, Color Histogram               |\n",
    "| Glacier    | Sobel Edges, Color Histogram       |\n",
    "| Mountains  | Sobel Edges, LBP                   |\n",
    "| Sea        | LBP, Color Histogram               |\n",
    "| Streets    | Sobel Edges, LBP, Color Histogram  |\n"
   ]
  },
  {
   "cell_type": "code",
   "execution_count": 4,
   "metadata": {},
   "outputs": [],
   "source": [
    "def extract_features_set1(image, image_type):\n",
    "    processed_image = preprocess_image(image)\n",
    "    color_image = cv.cvtColor(cv.resize(image, (150, 150)), cv.COLOR_BGR2RGB)\n",
    "    combined_features = []\n",
    "    if image_type == 'Buildings':\n",
    "        edges = extract_sobel_edges(processed_image)\n",
    "        texture = extract_lbp(processed_image)\n",
    "        color_hist = extract_histogram(color_image)\n",
    "        combined_features = np.hstack([edges, texture, color_hist])\n",
    "    elif image_type == 'Forest':\n",
    "        texture = extract_lbp(processed_image)\n",
    "        color_hist = extract_histogram(color_image)\n",
    "        combined_features = np.hstack([texture, color_hist])\n",
    "    elif image_type == 'Glacier':\n",
    "        edges = extract_sobel_edges(processed_image)\n",
    "        color_hist = extract_histogram(color_image)\n",
    "        combined_features = np.hstack([edges, color_hist])\n",
    "    elif image_type == 'Mountains':\n",
    "        edges = extract_sobel_edges(processed_image)\n",
    "        texture = extract_lbp(processed_image)\n",
    "        combined_features = np.hstack([edges, texture])\n",
    "    elif image_type == 'Sea':\n",
    "        texture = extract_lbp(processed_image)\n",
    "        color_hist = extract_histogram(color_image)\n",
    "        combined_features = np.hstack([texture, color_hist])\n",
    "    elif image_type == 'Streets':\n",
    "        edges = extract_sobel_edges(processed_image)\n",
    "        texture = extract_lbp(processed_image)\n",
    "        color_hist = extract_histogram(color_image)\n",
    "        combined_features = np.hstack([edges, texture, color_hist])\n",
    "    return combined_features\n",
    "\n"
   ]
  },
  {
   "cell_type": "markdown",
   "metadata": {},
   "source": [
    "#### Image Loading and Processing ->\n",
    "\n",
    "The load_and_preprocess_images() function iterates over the images in the specified folder, extracts features using the provided feature_set_extractor function, and computes the maximum feature vector length. Extracting features from images creates the feature vectors that will be used as input to the machine learning model. \n",
    "\n",
    "Features are extracted using the feature_set_extractor function, and the maximum feature vector length is computed based on the longest feature vector encountered during the extraction process.Encoding categorical labels as numerical values enables the use of machine learning algorithms that require numerical inputs. The LabelEncoder() class from scikit-learn is used to encode the categorical labels into numerical values.\n",
    "\n",
    "FLOW OF OPERATION->\n",
    "\n",
    "1. Initialize Variables:\n",
    "\n",
    "    1. Initialize empty lists features and labels to store extracted features and corresponding labels.\n",
    "    \n",
    "    2. Set max_length to 0 to keep track of the maximum feature vector length encountered.\n",
    "\n",
    "2. Feature Extraction and Maximum Length Calculation:\n",
    "\n",
    "    1. Iterate over each category (subfolder) in the specified folder.\n",
    "\n",
    "    2. For each image file in the category:\n",
    "        1. Read the image using OpenCV (cv.imread()).\n",
    "        2. Check if the image is valid (not None).\n",
    "        3. Extract features from the image using the provided feature_set_extractor function.\n",
    "        4. Append the feature vector to the features list.\n",
    "        5. Append the category label to the labels list.\n",
    "        6. Update max_length with the maximum length of the feature vector encountered so far.\n",
    "\n",
    "3. Padding Feature Vectors:\n",
    "\n",
    "    1. Iterate over each feature vector in the features list.\n",
    "    2. Pad each feature vector with zeros to match the length of the longest feature vector (max_length).\n",
    "    3. Update the corresponding feature vector in the features list with the padded feature vector.\n",
    "\n",
    "4. Label Encoding:\n",
    "\n",
    "    1. Encode the categorical labels (labels) into numerical values using LabelEncoder() from scikit-learn.\n",
    "    2. Convert the features and labels lists to numpy arrays for compatibility with machine learning algorithms.\n",
    "\n",
    "5. Return Results:\n",
    "    \n",
    "    Return the padded feature vectors (features), encoded labels (encoded_labels), and the label encoder (label_encoder) for later use in the training process."
   ]
  },
  {
   "cell_type": "code",
   "execution_count": 5,
   "metadata": {},
   "outputs": [],
   "source": [
    "\n",
    "def load_and_preprocess_images(folder, feature_set_extractor):\n",
    "    features = []\n",
    "    labels = []\n",
    "    max_length = 0  # Initialize maximum length to zero\n",
    "    \n",
    "    # First pass: Extract features and find the maximum feature vector length\n",
    "    for category in os.listdir(folder):\n",
    "        category_path = os.path.join(folder, category)\n",
    "        if os.path.isdir(category_path):\n",
    "            for filename in os.listdir(category_path):\n",
    "                img_path = os.path.join(category_path, filename)\n",
    "                image = cv.imread(img_path)\n",
    "                if image is not None:\n",
    "                    feature_vector = feature_set_extractor(image, category)\n",
    "                    features.append(feature_vector)\n",
    "                    labels.append(category)\n",
    "                    max_length = max(max_length, len(feature_vector))  # Update maximum length\n",
    "    \n",
    "    # Second pass: Pad feature vectors to the length of the longest vector\n",
    "    for i in range(len(features)):\n",
    "        features[i] = np.pad(features[i], (0, max_length - len(features[i])), mode='constant')\n",
    "    # Encode labels\n",
    "    label_encoder = LabelEncoder()\n",
    "    encoded_labels = label_encoder.fit_transform(labels)\n",
    "    # Convert to numpy array\n",
    "    features = np.array(features)\n",
    "    encoded_labels = np.array(encoded_labels)\n",
    "    \n",
    "    return features, encoded_labels, label_encoder"
   ]
  },
  {
   "cell_type": "markdown",
   "metadata": {},
   "source": [
    "#### PCA for Dimensionality Reduction ->\n",
    "\n",
    "Principal Component Analysis (PCA) is used to reduce the dimensionality of the feature space while preserving as much variance as possible. PCA transforms the original features into a new set of orthogonal features (principal components) that capture the maximum variance in the data.\n",
    "\n",
    "The explained variance ratio indicates the proportion of variance explained by each principal component. The cumulative explained variance ratio is plotted against the number of components to visualize how much variance is retained as the number of components increases.\n",
    "\n",
    "Selecting a variance threshold determines the amount of variance to retain in the reduced feature space. The threshold is set based on the cumulative explained variance ratio plot, aiming to retain a certain percentage (e.g., 95%) of the total variance.\n",
    "\n",
    "Evaluating model performance helps determine the optimal number of principal components for dimensionality reduction. Cross-validation is performed on the reduced feature space using a machine learning model (e.g., K-Nearest Neighbors) to estimate classification accuracy\n",
    "\n",
    "FLOW OF OPERATION ->\n",
    "\n",
    "1. Plot Explained Variance Ratio: \n",
    "\n",
    "    Visualize how much variance is retained with increasing number of components.\n",
    "\n",
    "2. Determine n_components for Desired Variance Threshold: \n",
    "    \n",
    "    Find the number of components needed to retain a specified variance threshold.\n",
    "\n",
    "3. Perform Cross-Validation: \n",
    "    \n",
    "    Evaluate model performance using cross-validation for different numbers of components.\n",
    "\n",
    "4. Determine Optimal Number of Components: \n",
    "\n",
    "    Identify the number of components maximizing cross-validated accuracy.\n",
    "\n",
    "5. Return Results: \n",
    "    \n",
    "    Provide the optimal number of components for PCA dimensionality reduction."
   ]
  },
  {
   "cell_type": "code",
   "execution_count": 6,
   "metadata": {},
   "outputs": [],
   "source": [
    "\n",
    "def select_optimal_pca_components(features, labels, variance_threshold=0.95):\n",
    "    # Step 1: Plot Explained Variance Ratio\n",
    "    pca = PCA().fit(features)\n",
    "    plt.figure(figsize=(10, 6))\n",
    "    plt.plot(np.cumsum(pca.explained_variance_ratio_))\n",
    "    plt.xlabel('Number of Components')\n",
    "    plt.ylabel('Cumulative Explained Variance')\n",
    "    plt.title('Explained Variance vs Number of Components')\n",
    "    plt.grid(True)\n",
    "    plt.show()\n",
    "    # Step 2: Determine n_components for desired variance threshold\n",
    "    cumulative_variance = np.cumsum(pca.explained_variance_ratio_)\n",
    "    n_components = np.argmax(cumulative_variance >= variance_threshold) + 1\n",
    "    print(f\"Number of components to retain {variance_threshold*100}% variance: {n_components}\")\n",
    "    # Step 3: Perform Cross-Validation\n",
    "    n_components_range = range(10, n_components + 50, 10)  # Adjust range based on your data\n",
    "    mean_accuracies = []\n",
    "    for n in n_components_range:\n",
    "        pca = PCA(n_components=n)\n",
    "        features_reduced = pca.fit_transform(features)\n",
    "        knn = KNeighborsClassifier(n_neighbors=5)\n",
    "        scores = cross_val_score(knn, features_reduced, labels, cv=5)  # 5-fold cross-validation\n",
    "        mean_accuracies.append(scores.mean())\n",
    "    plt.figure(figsize=(10, 6))\n",
    "    plt.plot(n_components_range, mean_accuracies)\n",
    "    plt.xlabel('Number of Components')\n",
    "    plt.ylabel('Cross-Validated Accuracy')\n",
    "    plt.title('Model Performance vs Number of Components')\n",
    "    plt.grid(True)\n",
    "    plt.show()\n",
    "    optimal_n_components = n_components_range[np.argmax(mean_accuracies)]\n",
    "    print(f\"Optimal number of components: {optimal_n_components}\")\n",
    "    return optimal_n_components"
   ]
  },
  {
   "cell_type": "markdown",
   "metadata": {},
   "source": [
    "##### Implementing the Image Processing and Feature Extraction ->"
   ]
  },
  {
   "cell_type": "code",
   "execution_count": 7,
   "metadata": {},
   "outputs": [],
   "source": [
    "# Example usage\n",
    "folder_path = 'dataset/dataset_full'\n",
    "features_set3, labels_set3, label_encoder = load_and_preprocess_images(folder_path, extract_features_set1)"
   ]
  },
  {
   "cell_type": "markdown",
   "metadata": {},
   "source": [
    "##### Implementing Auto n_Components Selection ->"
   ]
  },
  {
   "cell_type": "code",
   "execution_count": 8,
   "metadata": {},
   "outputs": [
    {
     "data": {
      "image/png": "[encoded data removed]",
      "text/plain": [
       "<Figure size 720x432 with 1 Axes>"
      ]
     },
     "metadata": {
      "needs_background": "light"
     },
     "output_type": "display_data"
    },
    {
     "name": "stdout",
     "output_type": "stream",
     "text": [
      "Number of components to retain 95.0% variance: 86\n"
     ]
    },
    {
     "data": {
      "image/png": "[encoded data removed]",
      "text/plain": [
       "<Figure size 720x432 with 1 Axes>"
      ]
     },
     "metadata": {
      "needs_background": "light"
     },
     "output_type": "display_data"
    },
    {
     "name": "stdout",
     "output_type": "stream",
     "text": [
      "Optimal number of components: 20\n",
      "Original Features shape -> (3000, 23022)\n",
      "PCA Features shape -> (3000, 20)\n"
     ]
    }
   ],
   "source": [
    "# Select optimal n_components\n",
    "optimal_n_components = select_optimal_pca_components(features_set3, labels_set3)\n",
    "# Apply PCA with the optimal number of components\n",
    "pca = PCA(n_components=optimal_n_components)\n",
    "features_set3_reduced = pca.fit_transform(features_set3)\n",
    "print(\"Original Features shape ->\", features_set3.shape)\n",
    "print(\"PCA Features shape ->\", features_set3_reduced.shape)"
   ]
  },
  {
   "cell_type": "markdown",
   "metadata": {},
   "source": [
    "##### Saving the PCA and Label Encoder Files ->"
   ]
  },
  {
   "cell_type": "code",
   "execution_count": 9,
   "metadata": {},
   "outputs": [
    {
     "data": {
      "text/plain": [
       "['label_encoder_pca.pkl']"
      ]
     },
     "execution_count": 9,
     "metadata": {},
     "output_type": "execute_result"
    }
   ],
   "source": [
    "# Save the PCA model, label encoder, and trained KNN model\n",
    "joblib.dump(pca, 'pca_model_optimal.pkl')\n",
    "joblib.dump(label_encoder, 'label_encoder_pca.pkl')"
   ]
  },
  {
   "cell_type": "markdown",
   "metadata": {},
   "source": [
    "#### KNN - Model Training ->\n",
    "Train a machine learning model (K-Nearest Neighbors in this case) on the provided features and labels and evaluate its performance. The function splits the data into training and testing sets, iterates over different values of the hyperparameter k, trains a KNN classifier with each value, and evaluates its performance on both training and testing data.\n",
    "\n",
    "FLOW OF OPERATIONS ->\n",
    "\n",
    "1. Data Splitting:\n",
    "\n",
    "    Split the input features and labels into training and testing sets using a specified test size and random state.\n",
    "\n",
    "2. Model Training and Evaluation:\n",
    "\n",
    "    1. Evaluate the K-Nearest Neighbors (KNN) algorithm for different values of the hyperparameter k.\n",
    "\n",
    "    2. Train a KNN classifier for each value of k and evaluate its performance on both training and testing data.\n",
    "    \n",
    "    3. Plot the training and testing accuracies against the number of neighbors (k) to visualize the model's behavior.\n",
    "\n",
    "    4. Report the final training and testing accuracies, as well as other classification metrics such as precision, recall, and F1-score.\n",
    "\n",
    "3. Model Saving:\n",
    "    \n",
    "    Serialize and save the trained KNN classifier to the specified file path for future use and deployment."
   ]
  },
  {
   "cell_type": "code",
   "execution_count": 10,
   "metadata": {},
   "outputs": [],
   "source": [
    "def train_and_save_model(features, labels, model_path):\n",
    "    X_train, X_test, y_train, y_test = train_test_split(features, labels, test_size=0.2, random_state=42)\n",
    "    # Evaluate KNN for different values of k\n",
    "    k_values = range(1, 21)  # Test k from 1 to 20\n",
    "    train_accuracies = []\n",
    "    test_accuracies = []\n",
    "\n",
    "    for k in k_values:\n",
    "        knn = KNeighborsClassifier(n_neighbors=k)\n",
    "        knn.fit(X_train, y_train)\n",
    "        # Calculate training accuracy\n",
    "        train_accuracy = accuracy_score(y_train, knn.predict(X_train))\n",
    "        train_accuracies.append(train_accuracy)\n",
    "        # Calculate test accuracy\n",
    "        test_accuracy = accuracy_score(y_test, knn.predict(X_test))\n",
    "        test_accuracies.append(test_accuracy)\n",
    "    \n",
    "    # Plotting the results\n",
    "    plt.figure(figsize=(10, 5))\n",
    "    plt.plot(k_values, train_accuracies, label='Training Accuracy', marker='o')\n",
    "    plt.plot(k_values, test_accuracies, label='Test Accuracy', marker='o')\n",
    "    plt.xlabel('Number of Neighbors (k)')\n",
    "    plt.ylabel('Accuracy')\n",
    "    plt.title('k-NN: Number of Neighbors vs. Accuracy')\n",
    "    plt.legend()\n",
    "    plt.grid(True)\n",
    "    plt.show()\n",
    "\n",
    "    # Final evaluation with k=4 (as in the original code)\n",
    "    knn = KNeighborsClassifier(n_neighbors=5)\n",
    "    knn.fit(X_train, y_train)\n",
    "    # Calculate training and test accuracy\n",
    "    train_accuracy = accuracy_score(y_train, knn.predict(X_train))\n",
    "    test_accuracy = accuracy_score(y_test, knn.predict(X_test))\n",
    "    print(f\"KNN with k= 5 - Training Accuracy: {train_accuracy:.4f}\")\n",
    "    print(f\"KNN with k= 5 - Test Accuracy: {test_accuracy:.4f}\")\n",
    "    print(\"KNN Classification Report:\\n\", classification_report(y_test, knn.predict(X_test)))\n",
    "\n",
    "    # Save the trained model\n",
    "    joblib.dump(knn, model_path)\n",
    "    print(f\"Model saved to {model_path}\")"
   ]
  },
  {
   "cell_type": "markdown",
   "metadata": {},
   "source": [
    "**Model Implementation and Saving ->**"
   ]
  },
  {
   "cell_type": "code",
   "execution_count": 11,
   "metadata": {},
   "outputs": [
    {
     "name": "stdout",
     "output_type": "stream",
     "text": [
      "Training and saving the model for Feature Set 3:\n"
     ]
    },
    {
     "data": {
      "image/png": "[encoded data removed]",
      "text/plain": [
       "<Figure size 720x360 with 1 Axes>"
      ]
     },
     "metadata": {
      "needs_background": "light"
     },
     "output_type": "display_data"
    },
    {
     "name": "stdout",
     "output_type": "stream",
     "text": [
      "KNN with k= 5 - Training Accuracy: 0.9571\n",
      "KNN with k= 5 - Test Accuracy: 0.9483\n",
      "KNN Classification Report:\n",
      "               precision    recall  f1-score   support\n",
      "\n",
      "           0       1.00      1.00      1.00       118\n",
      "           1       0.87      0.90      0.89        99\n",
      "           2       0.99      0.93      0.96        96\n",
      "           3       0.99      1.00      1.00       101\n",
      "           4       0.89      0.86      0.87        91\n",
      "           5       0.94      0.99      0.96        95\n",
      "\n",
      "    accuracy                           0.95       600\n",
      "   macro avg       0.95      0.95      0.95       600\n",
      "weighted avg       0.95      0.95      0.95       600\n",
      "\n",
      "Model saved to knn_set3_pca.pkl\n"
     ]
    }
   ],
   "source": [
    "# Train and save the model\n",
    "model_path = 'knn_set3_pca.pkl'\n",
    "print(\"Training and saving the model for Feature Set 3:\")\n",
    "train_and_save_model(features_set3_reduced, labels_set3, model_path)"
   ]
  }
 ],
 "metadata": {
  "kernelspec": {
   "display_name": "base",
   "language": "python",
   "name": "python3"
  },
  "language_info": {
   "codemirror_mode": {
    "name": "ipython",
    "version": 3
   },
   "file_extension": ".py",
   "mimetype": "text/x-python",
   "name": "python",
   "nbconvert_exporter": "python",
   "pygments_lexer": "ipython3",
   "version": "3.9.12"
  }
 },
 "nbformat": 4,
 "nbformat_minor": 2
}
